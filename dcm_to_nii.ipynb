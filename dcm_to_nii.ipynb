{
 "cells": [
  {
   "cell_type": "markdown",
   "metadata": {},
   "source": [
    "# DICOM to NIFTI"
   ]
  },
  {
   "cell_type": "markdown",
   "metadata": {},
   "source": [
    "## The following code was for converting DCM to NIFTI for PYW's project"
   ]
  },
  {
   "cell_type": "code",
   "execution_count": null,
   "metadata": {
    "scrolled": true
   },
   "outputs": [],
   "source": [
    "!pip install dicom2nifti"
   ]
  },
  {
   "cell_type": "code",
   "execution_count": null,
   "metadata": {},
   "outputs": [],
   "source": [
    "######### Conversion of DICOM to NIFTI: for PYW (2020.04.02) #########\n",
    "\n",
    "import os\n",
    "import dicom2nifti\n",
    "import shutil\n",
    "\n",
    "# arguments ##############################################\n",
    "in_path = '/media/scmlsg/Samsung_T5/Metastasis/Metastases Deep learning BB WB'  # A folder containing DICOM files.\n",
    "out_path = '/media/scmlsg/Samsung_T5/mets_nifti'  # A folder that tranformed nifti files will be saved.\n",
    "########################################################################################\n",
    "\n",
    "T1_BB = sorted([i for i in os.listdir(in_path) if 'BB' in i])\n",
    "T1_WB = sorted([i for i in os.listdir(in_path) if 'WB' in i])\n",
    "T2 = sorted([i for i in os.listdir(in_path) if 'T2' in i])"
   ]
  },
  {
   "cell_type": "code",
   "execution_count": 12,
   "metadata": {},
   "outputs": [
    {
     "name": "stdout",
     "output_type": "stream",
     "text": [
      "Check done!\n"
     ]
    }
   ],
   "source": [
    "# sanity check\n",
    "WB_MRN = [file.split(' ')[0] for file in T1_WB] \n",
    "BB_MRN = [file.split(' ')[0] for file in T1_BB]\n",
    "T2_MRN = [file.split(' ')[0] for file in T2]\n",
    "\n",
    "for WB, BB, T2 in zip(WB_MRN, BB_MRN, T2_MRN):\n",
    "    if not (WB == BB) and (WB == T2):\n",
    "        print(\"mismatch!! (WB/BB/T2): \", WB, BB, T2)\n",
    "    \n",
    "    print(\"Check done!\")"
   ]
  },
  {
   "cell_type": "code",
   "execution_count": null,
   "metadata": {},
   "outputs": [],
   "source": [
    "for (bb, wb, t2) in zip(T1_BB, T1_WB, T2):\n",
    "    nrm = bb.split(' ')[0] # the folder name was like \"patient number + space bar + sequence\"\n",
    "    \n",
    "    if os.path.exists(os.path.join(out_path, nrm)):\n",
    "        print(\"This patient has already been converted: \", nrm)\n",
    "        continue\n",
    "\n",
    "    for filename in [bb, wb, t2]:\n",
    "        seq = filename.split(' ')[1]\n",
    "        dcm_dir_name = in_path + \"/\" + filename\n",
    "        new_dir = out_path + \"/\" + nrm\n",
    "        new_filename =  new_dir + \"/\" + seq + \".nii\"\n",
    "        print(nrm)\n",
    "        if not os.path.exists(new_dir):\n",
    "            os.makedirs(new_dir)\n",
    "\n",
    "        dicom2nifti.dicom_series_to_nifti(dcm_dir_name, new_filename, reorient_nifti=False)\n",
    "    "
   ]
  },
  {
   "cell_type": "code",
   "execution_count": null,
   "metadata": {},
   "outputs": [],
   "source": [
    "dicom2nifti.dicom_series_to_nifti('/media/chansik/Samsung_T5/Metastases Deep learning BB WB/9502252 T2', '/media/chansik/Samsung_T5/T2.nii', reorient_nifti=False)"
   ]
  },
  {
   "cell_type": "code",
   "execution_count": null,
   "metadata": {},
   "outputs": [],
   "source": [
    "for img_set in os.listdir(PATH_in):\n",
    "    nrm, seq = img_set.split(' ') # the folder name was like \"patient number + space bar + sequence\"\n",
    "    \n",
    "    if os.path.exists(os.path.join(PATH_out, nrm)):\n",
    "        print(\"This patient has already been \")\n",
    "        continue\n",
    "    \n",
    "    new_filename = PATH_out + \"/\" + nrm + \"_\" + seq + \".nii\"\n",
    "    \n",
    "    \n",
    "        \n",
    "    img_set_path = os.path.join(PATH_in, img_set)\n",
    "    img_set_out_path = os.path.join(PATH_out, img_set)\n",
    "    os.makedirs(img_set_out_path)\n",
    "        \n",
    "    dicom2nifti.convert_directory(img_set_path, img_set_out_path, compression=False, reorient=False)\n",
    "    \n",
    "    for file in os.listdir(img_set_out_path):\n",
    "        os.rename(os.path.join(img_set_out_path, file), new_filename)\n",
    "\n",
    "    os.rmdir(img_set_out_path)        "
   ]
  },
  {
   "cell_type": "markdown",
   "metadata": {},
   "source": [
    "## Below is previous version"
   ]
  },
  {
   "cell_type": "code",
   "execution_count": null,
   "metadata": {},
   "outputs": [],
   "source": [
    "# Previously used version\n",
    "for patient in os.listdir(PATH_in):\n",
    "    \n",
    "    patient_path = os.path.join(PATH_in, patient)\n",
    "    patient_out_path = os.path.join(PATH_out, patient)\n",
    "\n",
    "    if not os.path.exists(patient_out_path):\n",
    "        os.makedirs(patient_out_path)\n",
    "\n",
    "    for series in os.listdir(patient_path):\n",
    "        series_path = os.path.join(patient_path, series)\n",
    "        series_out_path = os.path.join(patient_out_path, series)\n",
    "\n",
    "        if not os.path.exists(series_out_path):\n",
    "            os.makedirs(series_out_path)\n",
    "\n",
    "        print(series_path, '-->', patient_out_path)\n",
    "\n",
    "        dicom2nifti.convert_directory(series_path, series_out_path, reorient=False)\n",
    "\n",
    "        for filename in os.listdir(series_out_path):\n",
    "            new_filename = series_out_path + \"/\" + patient + \"_\" + series + \".nii.gz\"\n",
    "            os.rename(os.path.join(series_out_path, filename), new_filename)\n",
    "\n",
    "    # 아래의 코드는 폴더 밖으로 빼내는 코드입니다.\n",
    "    for series in os.listdir(patient_out_path):\n",
    "        series_path = os.path.join(patient_out_path, series)\n",
    "\n",
    "        for filename in os.listdir(series_path):\n",
    "            shutil.move(os.path.join(series_path, filename), os.path.join(patient_out_path, filename))\n",
    "\n",
    "        # 아래의 코드는 자동으로 폴더를 제거합니다.\n",
    "        os.rmdir(os.path.join(patient_out_path, series))\n",
    "\n",
    "    total_no = str(len(os.listdir(PATH)))\n",
    "    print(str(i) + \"/\" + total_no)\n",
    "    i = i + 1"
   ]
  }
 ],
 "metadata": {
  "kernelspec": {
   "display_name": "Python 3",
   "language": "python",
   "name": "python3"
  },
  "language_info": {
   "codemirror_mode": {
    "name": "ipython",
    "version": 3
   },
   "file_extension": ".py",
   "mimetype": "text/x-python",
   "name": "python",
   "nbconvert_exporter": "python",
   "pygments_lexer": "ipython3",
   "version": "3.7.6"
  }
 },
 "nbformat": 4,
 "nbformat_minor": 4
}
