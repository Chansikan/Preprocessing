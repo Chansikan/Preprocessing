{
 "cells": [
  {
   "cell_type": "code",
   "execution_count": 14,
   "metadata": {},
   "outputs": [],
   "source": [
    "import os\n",
    "import shutil\n",
    "import pandas as pd\n",
    "\n",
    "target_dir = '/media/chansik/Samsung_T5/mets_stripped'\n",
    "\n",
    "map_dict = {'original_MRN': [],\n",
    "            'coded_ID': []}\n",
    "\n",
    "for idx, directory in enumerate(os.listdir(target_dir)):\n",
    "    new_directory = 'M' + str(idx + 10001)[1:]\n",
    "    \n",
    "    map_dict['original_MRN'].append(directory)\n",
    "    map_dict['coded_ID'].append(new_directory)\n",
    "    \n",
    "    shutil.move(os.path.join(target_dir, directory),\n",
    "                os.path.join(target_dir, new_directory))\n",
    "    \n",
    "result_df = pd.DataFrame.from_dict(map_dict)\n",
    "result_df.to_csv(os.path.join('/media/chansik/Samsung_T5', 'PYW_mets_mapping.csv'), index=False)"
   ]
  },
  {
   "cell_type": "code",
   "execution_count": 1,
   "metadata": {},
   "outputs": [],
   "source": [
    "import os\n",
    "import shutil\n",
    "import pandas as pd\n",
    "\n",
    "working_dir = '/media/chansik/Samsung_T5/GBMsurv_PCJ'\n",
    "target_dir = '/media/chansik/Samsung_T5/FLAIR_for_Choi'\n",
    "\n",
    "gbm_list = pd.read_csv('GBM_list.csv')\n",
    "gbm_list = list(gbm_list['GBM'].astype('str'))\n",
    "\n",
    "not_included = []\n",
    "\n",
    "for mrn in gbm_list:\n",
    "    if mrn not in os.listdir(working_dir):\n",
    "        not_included.append(mrn)\n",
    "        continue\n",
    "    \n",
    "    pt_dir_path = os.path.join(working_dir, mrn)\n",
    "    \n",
    "    for series in os.listdir(pt_dir_path):\n",
    "        if series.split('_', 1)[1] in ['T2F', 'flair', 'FLAIR_post']: \n",
    "            series_path = os.path.join(pt_dir_path, series)\n",
    "            target_path = os.path.join(target_dir, series)\n",
    "            \n",
    "            shutil.copytree(series_path, target_path)\n",
    "            \n",
    "    \n",
    "#"
   ]
  },
  {
   "cell_type": "code",
   "execution_count": 2,
   "metadata": {},
   "outputs": [
    {
     "name": "stdout",
     "output_type": "stream",
     "text": [
      "['2051411', '251020', '8058626', '7802949', '6885302', '8354541', '7793165', '6509113', '7940564', '8326243', '8161015', '8277178', '7931635', '7850805', '8164166', '6788409', '8326559', '8202682', '8207171', '3794858', '8365032', '5719033', '7849692', '7835563', '5839624', '7692055', '8279376', '7826637', '7869238', '3610467']\n"
     ]
    }
   ],
   "source": [
    "print(not_included)"
   ]
  }
 ],
 "metadata": {
  "kernelspec": {
   "display_name": "Python 3",
   "language": "python",
   "name": "python3"
  },
  "language_info": {
   "codemirror_mode": {
    "name": "ipython",
    "version": 3
   },
   "file_extension": ".py",
   "mimetype": "text/x-python",
   "name": "python",
   "nbconvert_exporter": "python",
   "pygments_lexer": "ipython3",
   "version": "3.8.0"
  }
 },
 "nbformat": 4,
 "nbformat_minor": 4
}
